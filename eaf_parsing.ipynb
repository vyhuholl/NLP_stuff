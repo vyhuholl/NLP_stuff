{
  "nbformat": 4,
  "nbformat_minor": 0,
  "metadata": {
    "colab": {
      "name": "eaf_parsing.ipynb",
      "version": "0.3.2",
      "provenance": [],
      "collapsed_sections": []
    },
    "kernelspec": {
      "name": "python3",
      "display_name": "Python 3"
    },
    "accelerator": "GPU"
  },
  "cells": [
    {
      "cell_type": "markdown",
      "metadata": {
        "id": "kCdO5BvxbKDw",
        "colab_type": "text"
      },
      "source": [
        "Попытки из odt-файла с субтитрами к сериалу (на русском и немецком) сделать аннотацию ELAN в формате eaf."
      ]
    },
    {
      "cell_type": "code",
      "metadata": {
        "id": "HKSWVMjL7k4d",
        "colab_type": "code",
        "colab": {}
      },
      "source": [
        "from IPython.display import clear_output"
      ],
      "execution_count": 0,
      "outputs": []
    },
    {
      "cell_type": "code",
      "metadata": {
        "id": "V3nl9-wL91Q3",
        "colab_type": "code",
        "colab": {}
      },
      "source": [
        "!pip install pycodestyle flake8 pycodestyle_magic\n",
        "!pip install odfpy\n",
        "clear_output()"
      ],
      "execution_count": 0,
      "outputs": []
    },
    {
      "cell_type": "code",
      "metadata": {
        "id": "BZ3Ra8Lsla3q",
        "colab_type": "code",
        "colab": {}
      },
      "source": [
        "%load_ext pycodestyle_magic"
      ],
      "execution_count": 0,
      "outputs": []
    },
    {
      "cell_type": "code",
      "metadata": {
        "id": "twz1l4Jd-VEV",
        "colab_type": "code",
        "colab": {}
      },
      "source": [
        "!wget https://www.dropbox.com/s/qemuton5skzkmh8/%20annotation.odt?dl=0 -O annotation.odt\n",
        "clear_output()"
      ],
      "execution_count": 0,
      "outputs": []
    },
    {
      "cell_type": "code",
      "metadata": {
        "id": "HStpNWLQA7qE",
        "colab_type": "code",
        "colab": {}
      },
      "source": [
        "import re\n",
        "import pandas as pd\n",
        "from string import punctuation\n",
        "from google.colab import files\n",
        "from odf.opendocument import load\n",
        "from odf.table import Table, TableRow, TableCell\n",
        "from odf import text\n",
        "from warnings import filterwarnings\n",
        "filterwarnings(\"ignore\")\n",
        "clear_output()"
      ],
      "execution_count": 0,
      "outputs": []
    },
    {
      "cell_type": "markdown",
      "metadata": {
        "id": "Eb2hjs6tbE-j",
        "colab_type": "text"
      },
      "source": [
        "# Препроцессинг таблицы odt"
      ]
    },
    {
      "cell_type": "code",
      "metadata": {
        "id": "9KvKfTkUBL3b",
        "colab_type": "code",
        "colab": {}
      },
      "source": [
        "annotation = load(\"annotation.odt\")"
      ],
      "execution_count": 0,
      "outputs": []
    },
    {
      "cell_type": "code",
      "metadata": {
        "id": "NPcEi2fqBKGt",
        "colab_type": "code",
        "colab": {}
      },
      "source": [
        "table = annotation.text.getElementsByType(Table)[0]"
      ],
      "execution_count": 0,
      "outputs": []
    },
    {
      "cell_type": "code",
      "metadata": {
        "id": "_fFRu0ZHBcJ6",
        "colab_type": "code",
        "colab": {}
      },
      "source": [
        "df_dict = {\"Zeit\": [], \"Szene\": [], \"Russisch\": [],\n",
        "           \"Deutsch\": [], \"Bemerkungen\": []}\n",
        "for row in table.getElementsByType(TableRow):\n",
        "    if str(row) != \"ZeitSzeneRussischDeutschBemerkungen\" \\\n",
        "            and not str(row).startswith(\"Gruppe\"):\n",
        "        df_dict[\"Zeit\"].append(str(row.getElementsByType(TableCell)[0]))\n",
        "        df_dict[\"Szene\"].append(str(row.getElementsByType(TableCell)[1]))\n",
        "        df_dict[\"Russisch\"].append(str(row.getElementsByType(TableCell)[2]))\n",
        "        df_dict[\"Deutsch\"].append(str(row.getElementsByType(TableCell)[3]))\n",
        "        df_dict[\"Bemerkungen\"].append(str(row.getElementsByType(TableCell)[4]))\n",
        "df = pd.DataFrame(df_dict)"
      ],
      "execution_count": 0,
      "outputs": []
    },
    {
      "cell_type": "code",
      "metadata": {
        "id": "xKfhRPM_DhH4",
        "colab_type": "code",
        "colab": {
          "base_uri": "https://localhost:8080/",
          "height": 289
        },
        "outputId": "f2796e1a-ce38-436b-e940-a123ba1130b1"
      },
      "source": [
        "df.head() # не отображаются переносы строки"
      ],
      "execution_count": 9,
      "outputs": [
        {
          "output_type": "execute_result",
          "data": {
            "text/html": [
              "<div>\n",
              "<style scoped>\n",
              "    .dataframe tbody tr th:only-of-type {\n",
              "        vertical-align: middle;\n",
              "    }\n",
              "\n",
              "    .dataframe tbody tr th {\n",
              "        vertical-align: top;\n",
              "    }\n",
              "\n",
              "    .dataframe thead th {\n",
              "        text-align: right;\n",
              "    }\n",
              "</style>\n",
              "<table border=\"1\" class=\"dataframe\">\n",
              "  <thead>\n",
              "    <tr style=\"text-align: right;\">\n",
              "      <th></th>\n",
              "      <th>Zeit</th>\n",
              "      <th>Szene</th>\n",
              "      <th>Russisch</th>\n",
              "      <th>Deutsch</th>\n",
              "      <th>Bemerkungen</th>\n",
              "    </tr>\n",
              "  </thead>\n",
              "  <tbody>\n",
              "    <tr>\n",
              "      <th>0</th>\n",
              "      <td>0:00</td>\n",
              "      <td>Интро</td>\n",
              "      <td>«Домашний арест»Сколько денег нужно, чтобы ста...</td>\n",
              "      <td>„Hausarrest“Wie viel Geld braucht man, um glüc...</td>\n",
              "      <td></td>\n",
              "    </tr>\n",
              "    <tr>\n",
              "      <th>1</th>\n",
              "      <td>1:32</td>\n",
              "      <td>Сцена в комуналке</td>\n",
              "      <td>Диктор 1: Говорит и показывает Москва.Диктор 2...</td>\n",
              "      <td>Sprecher 1: Govorit i pokazyvaet Moskva.Sprech...</td>\n",
              "      <td>Transliteration der ersten zwei Sätze, weil:Fe...</td>\n",
              "    </tr>\n",
              "    <tr>\n",
              "      <th>2</th>\n",
              "      <td>3:21</td>\n",
              "      <td>Сцена в комнате Аркадия</td>\n",
              "      <td>Иван?: Да спокуха, тут всем хватит.Отец Ивана:...</td>\n",
              "      <td>Szene im Zimmer von ArkadiiIwan: Beruhig dich,...</td>\n",
              "      <td>Der Fernsehsprecher vor dem Dialog fehltKackbr...</td>\n",
              "    </tr>\n",
              "    <tr>\n",
              "      <th>3</th>\n",
              "      <td>4:50</td>\n",
              "      <td>В коридоре и на кухне и в туалете</td>\n",
              "      <td>Женщина в с тазиком в коридоре: Аркашка, скоти...</td>\n",
              "      <td>Im Flur, in der Küche und im BadFrau mit Schüs...</td>\n",
              "      <td>“Pfoten weg” in Ordnung?НЗ это неприкосновенны...</td>\n",
              "    </tr>\n",
              "    <tr>\n",
              "      <th>4</th>\n",
              "      <td>6:28</td>\n",
              "      <td>В зале с избирателями</td>\n",
              "      <td>Аркадий Борисович: Спасибо. Спасибо. Как вы вс...</td>\n",
              "      <td>Arkadii Borisowitsch: Danke. Danke. Wie ihr al...</td>\n",
              "      <td></td>\n",
              "    </tr>\n",
              "  </tbody>\n",
              "</table>\n",
              "</div>"
            ],
            "text/plain": [
              "   Zeit  ...                                        Bemerkungen\n",
              "0  0:00  ...                                                   \n",
              "1  1:32  ...  Transliteration der ersten zwei Sätze, weil:Fe...\n",
              "2  3:21  ...  Der Fernsehsprecher vor dem Dialog fehltKackbr...\n",
              "3  4:50  ...  “Pfoten weg” in Ordnung?НЗ это неприкосновенны...\n",
              "4  6:28  ...                                                   \n",
              "\n",
              "[5 rows x 5 columns]"
            ]
          },
          "metadata": {
            "tags": []
          },
          "execution_count": 9
        }
      ]
    },
    {
      "cell_type": "code",
      "metadata": {
        "id": "SbFvmuYcHr15",
        "colab_type": "code",
        "colab": {
          "base_uri": "https://localhost:8080/",
          "height": 34
        },
        "outputId": "4bd99fac-d0e4-40ef-eb39-a2f864b8883e"
      },
      "source": [
        "punctuation"
      ],
      "execution_count": 10,
      "outputs": [
        {
          "output_type": "execute_result",
          "data": {
            "text/plain": [
              "'!\"#$%&\\'()*+,-./:;<=>?@[\\\\]^_`{|}~'"
            ]
          },
          "metadata": {
            "tags": []
          },
          "execution_count": 10
        }
      ]
    },
    {
      "cell_type": "code",
      "metadata": {
        "id": "UYfBuzCpIV6Q",
        "colab_type": "code",
        "colab": {}
      },
      "source": [
        "# восстанавливаем переносы строки,\n",
        "# добавляем один перенос в начале каждой строки для удобства\n",
        "punct = r\"([a-zа-яA-ZА-Я\\d\\\"öÖäÄüÜёЁß!»\\.“\\]\\)\\?”][!\\\"#$%&'*+,\\-.\\/:;<=>?@\\\\^_`|~»“\\)\\]\\}…”]|\\.{3})([A-ZА-ЯЁÄÖÜ])\"\n",
        "\n",
        "\n",
        "def insert_spaces(string):\n",
        "    return \"\\n\" + re.sub(punct, r\"\\1\\n\\2\", string)"
      ],
      "execution_count": 0,
      "outputs": []
    },
    {
      "cell_type": "code",
      "metadata": {
        "id": "oOk585-Eh8so",
        "colab_type": "code",
        "colab": {}
      },
      "source": [
        "# это отвратительный костыль, но регуляркой немецкие тексты НЕ ДЕЛЯТСЯ\n",
        "df[df.columns[1:]] = df[df.columns[1:]].applymap(insert_spaces)\n",
        "df[\"Deutsch\"][2] = df[\"Deutsch\"][2][:28] + \"\\n\" + df[\"Deutsch\"][2][28:]\n",
        "df[\"Deutsch\"][3] = df[\"Deutsch\"][3][:33] + \"\\n\" + df[\"Deutsch\"][3][33:]\n",
        "df[\"Deutsch\"][4] = df[\"Deutsch\"][4].replace(\n",
        "    \" Journalist:\", \"\\nJournalist:\")\n",
        "df[\"Deutsch\"][8] = df[\"Deutsch\"][8].replace(\n",
        "    \"Arkadii Borisowitsch: Hahaha\", \"Arkadii Borisowitsch: Hahaha\\n\")\n",
        "df[\"Deutsch\"][8] = df[\"Deutsch\"][8].replace(\n",
        "    \" Iwan Samsonow:\", \"\\nIwan Samsonow:\")\n",
        "df[\"Deutsch\"][8] = df[\"Deutsch\"][8].replace(\n",
        "    \" Arkadii Borisowitsch:\", \"\\nArkadii Borisowitsch:\")\n",
        "df[\"Deutsch\"][8] = df[\"Deutsch\"][8].replace(\n",
        "    \"Arkadii Borisowitsch Super!\", \"\\nArkadii Borisowitsch: Super!\")\n",
        "df[\"Deutsch\"][8] = df[\"Deutsch\"][8].replace(\n",
        "    \" Pawel Jurjewitsch:\", \"\\nPawel Jurjewitsch:\")\n",
        "df[\"Deutsch\"][8] = df[\"Deutsch\"][8].replace(\n",
        "    \"gesagtPawel Jurjewitsch:\", \"gesagt\\nPawel Jurjewitsch:\")\n",
        "df[\"Deutsch\"][9] = df[\"Deutsch\"][9].replace(\n",
        "    \" Iwan Samsonow:\", \"\\nIwan Samsonow:\")\n",
        "df[\"Deutsch\"][10] = df[\"Deutsch\"][10].replace(\n",
        "    \"Nicht richtig. Nicht in Ordnung. \", \"Nicht richtig. Nicht in Ordnung.\\n\")\n",
        "df[\"Deutsch\"][10] = df[\"Deutsch\"][10].replace(\n",
        "    \" Iwan Samsonow:\", \"\\nIwan Samsonow:\")\n",
        "df[\"Deutsch\"][14] = df[\"Deutsch\"][14].replace(\n",
        "    \"Nachbarin: Ja\", \"Nachbarin: Ja\\n\")\n",
        "df[\"Deutsch\"][14] = df[\"Deutsch\"][14].replace(\n",
        "    \" Nachbarin:\", \"\\nNachbarin:\")\n",
        "df[\"Deutsch\"][14] = df[\"Deutsch\"][14].replace(\n",
        "    \" Arkadii Borisowitsch:\", \"\\nArkadii Borisowitsch:\")\n",
        "df[\"Deutsch\"][14] = df[\"Deutsch\"][14].replace(\n",
        "    \" Viktoria:\", \"\\nViktoria:\")\n",
        "df[\"Deutsch\"][14] = df[\"Deutsch\"][14].replace(\n",
        "    \" Nina:\", \"\\nNina:\")\n",
        "df[\"Deutsch\"][15] = df[\"Deutsch\"][15].replace(\n",
        "    \" Arkadii Borisowitsch:\", \"\\nArkadii Borisowitsch:\")\n",
        "df[\"Deutsch\"][15] = df[\"Deutsch\"][15].replace(\n",
        "    \" Pawel Ju.:\", \"\\nPawel Ju.:\")\n",
        "df[\"Deutsch\"][15] = df[\"Deutsch\"][15].replace(\n",
        "    \" Iwan Samsonow:\", \"\\nIwan Samsonow:\")\n",
        "df[\"Deutsch\"][15] = df[\"Deutsch\"][15].replace(\n",
        "    \" Stimme des Reporters:\", \"\\nStimme des Reporters:\")\n",
        "df[\"Deutsch\"][15] = df[\"Deutsch\"][15].replace(\n",
        "    \" Pawel Ju. in den Nachrichten:\", \"\\nPawel Ju. in den Nachrichten:\")\n",
        "df[\"Deutsch\"][15] = df[\"Deutsch\"][15].replace(\n",
        "    \"Iwan Samsonow Sag so etwas nicht!\", \"Iwan Samsonow: Sag so etwas nicht!\")\n",
        "df[\"Deutsch\"][15] = df[\"Deutsch\"][15].replace(\n",
        "    \" Julia:\", \"\\nJulia:\")\n",
        "df[\"Deutsch\"][15] = df[\"Deutsch\"][15].replace(\n",
        "    \" Viktoria:\", \"\\nViktoria:\")\n",
        "df[\"Deutsch\"][15] = df[\"Deutsch\"][15].replace(\n",
        "    \" Nina:\", \"\\nNina:\")\n",
        "df[\"Deutsch\"][15] = df[\"Deutsch\"][15].replace(\n",
        "    \" Marina:\", \"\\nMarina:\")"
      ],
      "execution_count": 0,
      "outputs": []
    },
    {
      "cell_type": "code",
      "metadata": {
        "id": "n7PH9_yKB8om",
        "colab_type": "code",
        "colab": {}
      },
      "source": [
        "# так как не очень умный автор сценария не знает слова \"секретарша\",\n",
        "# пришлось ручками снимать омонимию :)\n",
        "df[\"Deutsch\"][7] = df[\"Deutsch\"][7].replace(\"Секретарь:\", \"Лидия Алексеевна:\")"
      ],
      "execution_count": 0,
      "outputs": []
    },
    {
      "cell_type": "code",
      "metadata": {
        "id": "8ANfzj8gl3A1",
        "colab_type": "code",
        "colab": {}
      },
      "source": [
        "# some minor fixes\n",
        "df[\"Russisch\"][15] = \"\\nАркадий: \" + df[\"Russisch\"][15][1:]\n",
        "df[\"Deutsch\"][15] = \"\\nArkadii: \" + df[\"Deutsch\"][15][1:]\n",
        "df[\"Russisch\"][6] = df[\"Russisch\"][6][:666] + \"\\n\" + df[\"Russisch\"][6][667:]\n",
        "df[\"Russisch\"][15] = df[\"Russisch\"][15][:6173] + \"\\n\" + df[\"Russisch\"][15][6174:]"
      ],
      "execution_count": 0,
      "outputs": []
    },
    {
      "cell_type": "code",
      "metadata": {
        "id": "tfq1rPPeRChU",
        "colab_type": "code",
        "colab": {}
      },
      "source": [
        "# для удобства указываем говорящего в интро и финальных титрах\n",
        "# убираем переносы строки в монологах рассказчика\n",
        "df[\"Russisch\"][0] = \"Рассказчик: \" + df[\"Russisch\"][0][18:]\n",
        "df[\"Deutsch\"][0] = \"Erzähler: \" + df[\"Deutsch\"][0][14:]\n",
        "df[\"Russisch\"][0] = \"\\n\" + df[\"Russisch\"][0].replace(\"\\n\", \" \")\n",
        "df[\"Deutsch\"][0] = \"\\n\" + df[\"Deutsch\"][0].replace(\"\\n\", \" \")\n",
        "df[\"Russisch\"][15] = df[\"Russisch\"][15].replace(\n",
        "    \"Только я этот счастливый билетик вытащила.\",\n",
        "    \"Только я этот счастливый билетик вытащила.\\nРассказчик:\")\n",
        "df[\"Deutsch\"][15] = df[\"Deutsch\"][15].replace(\n",
        "    \"Nur ich habe so ein glückliches Los gezogen.\\n\",\n",
        "    \"Nur ich habe so ein glückliches Los gezogen.\\nErzähler: \")\n",
        "index_ru = df[\"Russisch\"][15].find(\"Рассказчик: \")\n",
        "index_de = df[\"Deutsch\"][15].find(\"Erzähler: \")\n",
        "df[\"Russisch\"][15] = df[\"Russisch\"][15][:index_ru] + \\\n",
        "                    df[\"Russisch\"][15][index_ru:].replace(\"\\n\", \" \")\n",
        "df[\"Deutsch\"][15] = df[\"Deutsch\"][15][:index_de] + \\\n",
        "                    df[\"Deutsch\"][15][index_de:].replace(\"\\n\", \" \")"
      ],
      "execution_count": 0,
      "outputs": []
    },
    {
      "cell_type": "code",
      "metadata": {
        "id": "nwrdzDaFUvD4",
        "colab_type": "code",
        "colab": {}
      },
      "source": [
        "# убираем ремарки и заголовки\n",
        "glitchy_string = \"Anonymous2019-05-02T15:45:29.59Ich auch nichtMilen Gavrailov2019-04-27T14:54:01.59Das verstehe ich nicht\"\n",
        "glitchy_string_2 = \"\"\"Milen Gavrailov2019-05-02T17:31:24.67viel SpaßMilen Gavrailov2019-05-02T17:31:12.67okAnonymous2019-05-02T17:30:55.67Ich wollte bis um acht einfach arbeiten. Mal schauen wie weit ich komme. Der Rest ist dann für dich. :)Milen Gavrailov2019-05-02T17:29:56.67Du musst jetzt nicht auf einmal den ganzen Text übersetzen :DMilen Gavrailov2019-05-02T17:24:20.68даAnonymous2019-05-02T17:21:58.68Dann vielleicht: Das ist doch wieder eine Falle.?\n",
        "Milen Gavrailov2019-05-02T17:20:12.71разводнякразводняксущ., кол-во синонимов: 8• жульничество (42)• кидалово (19)• лохотрон (19)• надувательство (35)• обман (113)• подстава (25)• развод (31)• разводилово (20)\n",
        "Anonymous2019-05-02T17:15:35.71Weiß nicht genau, was es bedeutet.\"\"\"\n",
        "df[\"Russisch\"][1] = df[\"Russisch\"][1].replace(\n",
        "    \"(Hier bin ich mir nicht sicher)\", \"\")\n",
        "df[\"Deutsch\"][2] = df[\"Deutsch\"][2][28:]\n",
        "df[\"Deutsch\"][3] = df[\"Deutsch\"][3][33:]\n",
        "df[\"Russisch\"][5] = df[\"Russisch\"][5].replace(\"(6 раз)\", \"\")\n",
        "df[\"Deutsch\"][5] = df[\"Deutsch\"][5].replace(\"(6x)\", \"\")\n",
        "df[\"Deutsch\"][9] = df[\"Deutsch\"][9].replace(\" [zu den Kindern]\", \"\")\n",
        "df[\"Deutsch\"][15] = df[\"Deutsch\"][15].replace(\" (zu A. B.)\", \"\")\n",
        "df[\"Deutsch\"][15] = df[\"Deutsch\"][15].replace(\" (ironisch)\", \"\")\n",
        "df[\"Russisch\"][13] = df[\"Russisch\"][13].replace(glitchy_string, \"\")\n",
        "df[\"Russisch\"][14] = df[\"Russisch\"][14].replace(glitchy_string_2, \"\")\n",
        "df[\"Russisch\"][14] = df[\"Russisch\"][14].replace(\n",
        "    \"(Ich bin mir nicht sicher)\", \"\")"
      ],
      "execution_count": 0,
      "outputs": []
    },
    {
      "cell_type": "code",
      "metadata": {
        "id": "1e7Fx7dfz3iM",
        "colab_type": "code",
        "colab": {}
      },
      "source": [
        "df[\"Deutsch\"][15] = df[\"Deutsch\"][15].replace(\n",
        "    \" Nachbarin:\", \"\\nNachbarin:\")"
      ],
      "execution_count": 0,
      "outputs": []
    },
    {
      "cell_type": "code",
      "metadata": {
        "id": "6WZLcd_gOxhn",
        "colab_type": "code",
        "colab": {}
      },
      "source": [
        "# переводим столбец Zeit в списки моментов времени\n",
        "\n",
        "def to_time(string):\n",
        "    if len(string) > 13:\n",
        "        res = []\n",
        "        for i in range(0, len(string) // 10 * 10, 5):\n",
        "            res.append(string[i: i + 5])\n",
        "        res.append(string[len(string) // 10 * 10:])\n",
        "        return res\n",
        "    elif \"-\" not in string:\n",
        "        return [string]\n",
        "    else:\n",
        "        return [s.strip(\" \") for s in string.split(\"-\")]"
      ],
      "execution_count": 0,
      "outputs": []
    },
    {
      "cell_type": "code",
      "metadata": {
        "id": "qDxmEELxQiI_",
        "colab_type": "code",
        "colab": {}
      },
      "source": [
        "df[\"Zeit\"] = df[\"Zeit\"].apply(to_time)"
      ],
      "execution_count": 0,
      "outputs": []
    },
    {
      "cell_type": "code",
      "metadata": {
        "id": "KRjucQGtVobB",
        "colab_type": "code",
        "outputId": "9982fc73-c962-4152-d3b3-b5408caadb1e",
        "colab": {
          "base_uri": "https://localhost:8080/",
          "height": 817
        }
      },
      "source": [
        "df.head(16)"
      ],
      "execution_count": 20,
      "outputs": [
        {
          "output_type": "execute_result",
          "data": {
            "text/html": [
              "<div>\n",
              "<style scoped>\n",
              "    .dataframe tbody tr th:only-of-type {\n",
              "        vertical-align: middle;\n",
              "    }\n",
              "\n",
              "    .dataframe tbody tr th {\n",
              "        vertical-align: top;\n",
              "    }\n",
              "\n",
              "    .dataframe thead th {\n",
              "        text-align: right;\n",
              "    }\n",
              "</style>\n",
              "<table border=\"1\" class=\"dataframe\">\n",
              "  <thead>\n",
              "    <tr style=\"text-align: right;\">\n",
              "      <th></th>\n",
              "      <th>Zeit</th>\n",
              "      <th>Szene</th>\n",
              "      <th>Russisch</th>\n",
              "      <th>Deutsch</th>\n",
              "      <th>Bemerkungen</th>\n",
              "    </tr>\n",
              "  </thead>\n",
              "  <tbody>\n",
              "    <tr>\n",
              "      <th>0</th>\n",
              "      <td>[0:00]</td>\n",
              "      <td>\\nИнтро</td>\n",
              "      <td>\\nРассказчик: Сколько денег нужно, чтобы стать...</td>\n",
              "      <td>\\nErzähler: Wie viel Geld braucht man, um glüc...</td>\n",
              "      <td>\\n</td>\n",
              "    </tr>\n",
              "    <tr>\n",
              "      <th>1</th>\n",
              "      <td>[1:32]</td>\n",
              "      <td>\\nСцена в комуналке</td>\n",
              "      <td>\\nДиктор 1: Говорит и показывает Москва.\\nДикт...</td>\n",
              "      <td>\\nSprecher 1: Govorit i pokazyvaet Moskva.\\nSp...</td>\n",
              "      <td>\\nTransliteration der ersten zwei Sätze, weil:...</td>\n",
              "    </tr>\n",
              "    <tr>\n",
              "      <th>2</th>\n",
              "      <td>[3:21]</td>\n",
              "      <td>\\nСцена в комнате Аркадия</td>\n",
              "      <td>\\nИван?: Да спокуха, тут всем хватит.\\nОтец Ив...</td>\n",
              "      <td>\\nIwan: Beruhig dich, es ist genug für alle da...</td>\n",
              "      <td>\\nDer Fernsehsprecher vor dem Dialog fehltKack...</td>\n",
              "    </tr>\n",
              "    <tr>\n",
              "      <th>3</th>\n",
              "      <td>[4:50]</td>\n",
              "      <td>\\nВ коридоре и на кухне и в туалете</td>\n",
              "      <td>\\nЖенщина в с тазиком в коридоре: Аркашка, ско...</td>\n",
              "      <td>\\nFrau mit Schüssel im Flur: Arkadii, du Dreck...</td>\n",
              "      <td>\\n“Pfoten weg” in Ordnung?\\nНЗ это неприкоснов...</td>\n",
              "    </tr>\n",
              "    <tr>\n",
              "      <th>4</th>\n",
              "      <td>[6:28]</td>\n",
              "      <td>\\nВ зале с избирателями</td>\n",
              "      <td>\\nАркадий Борисович: Спасибо. Спасибо. Как вы ...</td>\n",
              "      <td>\\nArkadii Borisowitsch: Danke. Danke. Wie ihr ...</td>\n",
              "      <td>\\n</td>\n",
              "    </tr>\n",
              "    <tr>\n",
              "      <th>5</th>\n",
              "      <td>[8:02]</td>\n",
              "      <td>\\nСцена на улице</td>\n",
              "      <td>\\nТолпа: Мэр - вандал! \\nАркадий Борисович: Ст...</td>\n",
              "      <td>\\nMenge: Bürgermeister – Barbar! \\nArkadii Bor...</td>\n",
              "      <td>\\nEvtl. zu lang.(zu Pawel Ju.)(von Bylinkina a...</td>\n",
              "    </tr>\n",
              "    <tr>\n",
              "      <th>6</th>\n",
              "      <td>[11:05]</td>\n",
              "      <td>\\nСцена в машине</td>\n",
              "      <td>\\nАркадий Борисович: Виктор Степанович, привет...</td>\n",
              "      <td>\\nArkadii Borisowitsch: Viktor Stepanowitsch, ...</td>\n",
              "      <td>\\n(am Telefon zu seiner Affäre mit dem Decknam...</td>\n",
              "    </tr>\n",
              "    <tr>\n",
              "      <th>7</th>\n",
              "      <td>[13:00]</td>\n",
              "      <td>\\nСцена в офисе /1/</td>\n",
              "      <td>\\nСекретарь: Аркадий Борисович, извините, но в...</td>\n",
              "      <td>\\nSekretärin: Arkadii Borisowitsch, verzeihen ...</td>\n",
              "      <td>\\nAlternativ: allerdings</td>\n",
              "    </tr>\n",
              "    <tr>\n",
              "      <th>8</th>\n",
              "      <td>[15:00]</td>\n",
              "      <td>\\nСцена в офисе /2/</td>\n",
              "      <td>\\nИван Самсонов: Тх...\\nТак вроде всё нормальн...</td>\n",
              "      <td>\\nIwan Samsonow: Hm...\\nSo weit alles in Ordnu...</td>\n",
              "      <td>\\nSo weit alles in Ordnung. Eigentlich...alles...</td>\n",
              "    </tr>\n",
              "    <tr>\n",
              "      <th>9</th>\n",
              "      <td>[23:00]</td>\n",
              "      <td>\\nСцена в коммуналке (семья Самсоновых)</td>\n",
              "      <td>\\nИван Самсонов: Да, Николай Филиппович, поэто...</td>\n",
              "      <td>\\nIwan Samsonow: Ja, Nikolai Filippowitsch, de...</td>\n",
              "      <td>\\n???</td>\n",
              "    </tr>\n",
              "    <tr>\n",
              "      <th>10</th>\n",
              "      <td>[26:06]</td>\n",
              "      <td>\\nСцена в офисе</td>\n",
              "      <td>\\nАркадий Борисович: Нет, нет, Серёженька, ты ...</td>\n",
              "      <td>\\nArkadii Borisowitsch: Nein, nein, Serjoschen...</td>\n",
              "      <td>\\n</td>\n",
              "    </tr>\n",
              "    <tr>\n",
              "      <th>11</th>\n",
              "      <td>[30:00, 31:09]</td>\n",
              "      <td>\\nАБ в машине</td>\n",
              "      <td>\\nАркадий Борисович: Виталик, ну что тащимся? ...</td>\n",
              "      <td>\\nArkadii Borisowitsch: Witalik, warum fahren ...</td>\n",
              "      <td>\\n</td>\n",
              "    </tr>\n",
              "    <tr>\n",
              "      <th>12</th>\n",
              "      <td>[31:10, 33:32]</td>\n",
              "      <td>\\nВ университете</td>\n",
              "      <td>\\nКоллега в коридоре: Здравствуйте, Мариночка....</td>\n",
              "      <td>\\nKollege im Flur: Hallo Marina..\\nStudentin: ...</td>\n",
              "      <td>\\n</td>\n",
              "    </tr>\n",
              "    <tr>\n",
              "      <th>13</th>\n",
              "      <td>[33:33, 35:34]</td>\n",
              "      <td>\\nАБ в «Санта-\\nФе» (сцена со взяткой)</td>\n",
              "      <td>\\nАркадий Борисович: Ну я здесь уже. Где ты? Г...</td>\n",
              "      <td>\\nArkadii Borisowitsch: Nun, ich bin schon hie...</td>\n",
              "      <td>\\nhttp://www.consultant.ru/document/cons_doc_\\...</td>\n",
              "    </tr>\n",
              "    <tr>\n",
              "      <th>14</th>\n",
              "      <td>[35:05, 45:48]</td>\n",
              "      <td>\\nСцена в комуналке</td>\n",
              "      <td>\\nИван Самсонов: Убью его, суку!\\nНина: Ну это...</td>\n",
              "      <td>\\nIwan Samsonow: Ich werde ihn töten, den Mist...</td>\n",
              "      <td>\\nWie ich das verstehe, nennt man so ein Gerät...</td>\n",
              "    </tr>\n",
              "    <tr>\n",
              "      <th>15</th>\n",
              "      <td>[45:55, 46:51, 48:03, 49:12, 51:04, 53:18, 55:...</td>\n",
              "      <td>\\nВсё ещё в квартире АркадияНа улице перед дом...</td>\n",
              "      <td>\\nАркадий: Так, в общем, Паша, я тут, короче, ...</td>\n",
              "      <td>\\nArkadii: Also, kurz gesagt, ich habe hier je...</td>\n",
              "      <td>\\n</td>\n",
              "    </tr>\n",
              "  </tbody>\n",
              "</table>\n",
              "</div>"
            ],
            "text/plain": [
              "                                                 Zeit  ...                                        Bemerkungen\n",
              "0                                              [0:00]  ...                                                 \\n\n",
              "1                                              [1:32]  ...  \\nTransliteration der ersten zwei Sätze, weil:...\n",
              "2                                              [3:21]  ...  \\nDer Fernsehsprecher vor dem Dialog fehltKack...\n",
              "3                                              [4:50]  ...  \\n“Pfoten weg” in Ordnung?\\nНЗ это неприкоснов...\n",
              "4                                              [6:28]  ...                                                 \\n\n",
              "5                                              [8:02]  ...  \\nEvtl. zu lang.(zu Pawel Ju.)(von Bylinkina a...\n",
              "6                                             [11:05]  ...  \\n(am Telefon zu seiner Affäre mit dem Decknam...\n",
              "7                                             [13:00]  ...                           \\nAlternativ: allerdings\n",
              "8                                             [15:00]  ...  \\nSo weit alles in Ordnung. Eigentlich...alles...\n",
              "9                                             [23:00]  ...                                              \\n???\n",
              "10                                            [26:06]  ...                                                 \\n\n",
              "11                                     [30:00, 31:09]  ...                                                 \\n\n",
              "12                                     [31:10, 33:32]  ...                                                 \\n\n",
              "13                                     [33:33, 35:34]  ...  \\nhttp://www.consultant.ru/document/cons_doc_\\...\n",
              "14                                     [35:05, 45:48]  ...  \\nWie ich das verstehe, nennt man so ein Gerät...\n",
              "15  [45:55, 46:51, 48:03, 49:12, 51:04, 53:18, 55:...  ...                                                 \\n\n",
              "\n",
              "[16 rows x 5 columns]"
            ]
          },
          "metadata": {
            "tags": []
          },
          "execution_count": 20
        }
      ]
    },
    {
      "cell_type": "code",
      "metadata": {
        "id": "R32QB5rkLQi4",
        "colab_type": "code",
        "colab": {}
      },
      "source": [
        "# сохраняем в более удобном формате\n",
        "df.to_csv(\"annotation.csv\")\n",
        "files.download(\"annotation.csv\")"
      ],
      "execution_count": 0,
      "outputs": []
    },
    {
      "cell_type": "markdown",
      "metadata": {
        "id": "cQ1JLyC7bajq",
        "colab_type": "text"
      },
      "source": [
        "# Извлечение списка говорящих"
      ]
    },
    {
      "cell_type": "code",
      "metadata": {
        "id": "WADOuuRfMHW6",
        "colab_type": "code",
        "colab": {}
      },
      "source": [
        "speakers_ru = []\n",
        "speakers_de = []"
      ],
      "execution_count": 0,
      "outputs": []
    },
    {
      "cell_type": "code",
      "metadata": {
        "id": "rySUCNrmhWwM",
        "colab_type": "code",
        "colab": {}
      },
      "source": [
        "for i in range(len(df[\"Russisch\"])):\n",
        "    speakers = re.findall(r\"\\n *([а-яА-ЯёЁ\\.\\? \\d]+?):\", df[\"Russisch\"][i])\n",
        "    for speaker in speakers:\n",
        "        if speaker not in speakers_ru:\n",
        "            speakers_ru.append(speaker)"
      ],
      "execution_count": 0,
      "outputs": []
    },
    {
      "cell_type": "code",
      "metadata": {
        "id": "ImuEohf2IJGX",
        "colab_type": "code",
        "colab": {}
      },
      "source": [
        "for i in range(len(df[\"Deutsch\"])):\n",
        "    speakers = re.findall(r\"\\n *([a-zA-ZäÄöÖüÜ\\.\\? \\d]+?):\", df[\"Deutsch\"][i])\n",
        "    for speaker in speakers:\n",
        "        if speaker not in speakers_de:\n",
        "            speakers_de.append(speaker)"
      ],
      "execution_count": 0,
      "outputs": []
    },
    {
      "cell_type": "code",
      "metadata": {
        "id": "qcuj8-CPpT51",
        "colab_type": "code",
        "colab": {}
      },
      "source": [
        "# убираем дубликаты\n",
        "aliases_ru = {\"Мужчина в коридоре\": \"Отец Ивана\", \"Иван Самсонов\": \"Иван\",\n",
        "              \"Детский голос\": \"Подросток\", \"Отец\": \"Отец Ивана\",\n",
        "              \"Сосед\": \"Петрович\",\n",
        "              \"Отец Ивана открывает чемодан\": \"Отец Ивана\", \"Иван?\": \"Иван\",\n",
        "              \"Аркадий Борисович\": \"Аркадий\", \"Былинкина\": \"Марина\",\n",
        "              \"Студенты\": \"Толпа\", \"Жена\": \"Виктория\", \"Юля\": \"Юлия\",\n",
        "              \"Марина Сергеевна\": \"Марина\", \"Голос\": \"Капитан\",\n",
        "              \"Голос за кадром\": \"Рассказчик\",\n",
        "              \"Голос за дверью\": \"Человек в форме 1\", \"Иван Самонов\": \"Иван\",\n",
        "              \"Аркадий Борисович в новостном сюжете\": \"Аркадий\",\n",
        "              \"Голос репортёра\": \"Репортёр\",\n",
        "              \"Павел Юрьевич в новостном сюжете\": \"Павел Юрьевич\"}\n",
        "speakers_ru = [i for i in speakers_ru if i not in aliases_ru.keys()]"
      ],
      "execution_count": 0,
      "outputs": []
    },
    {
      "cell_type": "code",
      "metadata": {
        "id": "07kiJ5DeJKOC",
        "colab_type": "code",
        "colab": {}
      },
      "source": [
        "# убираем дубликаты\n",
        "aliases_de = {\"Mann im Flur\": \"Iwans Vater\", \"Iwan Samsonow\": \"Iwan\",\n",
        "              \"Kindesstimme\": \"Teenager\", \"Vater\": \"Iwans Vater\",\n",
        "              \"Nachbar\": \"Petrowitsch\",\n",
        "              \"Iwans Vater öffnet den Koffer\": \"Iwans Vater\",\n",
        "              \"Wanjas Vater\": \"Iwans Vater\", \"Iwan Samsonov\": \"Iwan\",\n",
        "              \"Arkadii Borisowitsch\": \"Arkadii\", \"Bylinkina\": \"Marina\",\n",
        "              \"Bylinikina\": \"Marina\", \"Studenten\": \"Menge\",\n",
        "              \"Pawel Ju.\": \"Pawel Jurjewitsch\", \"Ehefrau\": \"Viktoria\",\n",
        "              \"Sekretärin\": \"Lidija Aleksejewna\", \"Iwan S.\": \"Iwan\",\n",
        "              \"Arakelyan\": \"Arakeljan\", \"Studentin\": \"Student\",\n",
        "              \"Marina Sergejewna\": \"Marina\", \"Stimme\": \"Kapitän\",\n",
        "              \"Voice over\": \"Erzähler\",\n",
        "              \"Stimme hinter der Tür\": \"Mann in Uniform 1\",\n",
        "              \"Mann in Uniform1\": \"Mann in Uniform 1\",\n",
        "              \"Mann in Uniform2\": \"Mann in Uniform 2\",\n",
        "              \"Arkadii Borisowitsch in den Nachrichten\": \"Arkadii\",\n",
        "              \"Die Stimme des Reporters\": \"Reporter\",\n",
        "              \"Stimme des Reporters\": \"Reporter\",\n",
        "              \"Pawel Ju. in den Nachrichten\": \"Pawel Jurjewitsch\"}\n",
        "speakers_de = [i for i in speakers_de if i not in aliases_de.keys()]"
      ],
      "execution_count": 0,
      "outputs": []
    },
    {
      "cell_type": "code",
      "metadata": {
        "id": "CuKX1WLH1pPQ",
        "colab_type": "code",
        "outputId": "7288ba11-1b84-42b1-f228-2e8ee5462fc2",
        "colab": {
          "base_uri": "https://localhost:8080/",
          "height": 51
        }
      },
      "source": [
        "print(len(speakers_ru))\n",
        "print(len(speakers_de))"
      ],
      "execution_count": 27,
      "outputs": [
        {
          "output_type": "stream",
          "text": [
            "34\n",
            "34\n"
          ],
          "name": "stdout"
        }
      ]
    },
    {
      "cell_type": "code",
      "metadata": {
        "id": "6irPLQjE8n9i",
        "colab_type": "code",
        "colab": {}
      },
      "source": [
        "# выравниваем, чтобы каждый говорящий имел один и тот же индекс\n",
        "# как в speakers_ru, так и в speakers_de\n",
        "speakers_de[7: 11] = speakers_de[8: 12]\n",
        "speakers_de[11] = \"Iwan\"\n",
        "speakers_de[12], speakers_de[13] = speakers_de[13], speakers_de[12]\n",
        "speakers_de[15], speakers_de[16] = speakers_de[16], speakers_de[15]\n",
        "speakers_de[17] = \"Sekretär\"\n",
        "speakers_de[18] = \"Nina\"\n",
        "speakers_de[24: 28] = speakers_de[25: 29]\n",
        "speakers_de[28] = \"Nachbarin\"\n",
        "speakers_de[30] = \"Mann in Uniform 2\"\n",
        "speakers_de[31] = \"Viktoria\"\n",
        "speakers_de[32] = \"Julia\""
      ],
      "execution_count": 0,
      "outputs": []
    },
    {
      "cell_type": "code",
      "metadata": {
        "id": "gPa_bDUHBqOx",
        "colab_type": "code",
        "colab": {}
      },
      "source": [
        "# сортируем список говорящих в алфавитном (в русском языке) порядке\n",
        "speakers = [[ru, de] for ru, de in sorted(zip(speakers_ru, speakers_de))]"
      ],
      "execution_count": 0,
      "outputs": []
    },
    {
      "cell_type": "code",
      "metadata": {
        "id": "uuve3rDD6DC8",
        "colab_type": "code",
        "colab": {}
      },
      "source": [
        "# список говорящих тоже сохраняем как датафрейм pandas\n",
        "df_speakers = pd.DataFrame(speakers, columns=[\"speakers_ru\", \"speakers_de\"])"
      ],
      "execution_count": 0,
      "outputs": []
    },
    {
      "cell_type": "code",
      "metadata": {
        "id": "Khytw39i8SET",
        "colab_type": "code",
        "outputId": "11623324-a43f-449c-f4fe-dce0917f766a",
        "colab": {
          "base_uri": "https://localhost:8080/",
          "height": 1000
        }
      },
      "source": [
        "df_speakers.head(34)"
      ],
      "execution_count": 31,
      "outputs": [
        {
          "output_type": "execute_result",
          "data": {
            "text/html": [
              "<div>\n",
              "<style scoped>\n",
              "    .dataframe tbody tr th:only-of-type {\n",
              "        vertical-align: middle;\n",
              "    }\n",
              "\n",
              "    .dataframe tbody tr th {\n",
              "        vertical-align: top;\n",
              "    }\n",
              "\n",
              "    .dataframe thead th {\n",
              "        text-align: right;\n",
              "    }\n",
              "</style>\n",
              "<table border=\"1\" class=\"dataframe\">\n",
              "  <thead>\n",
              "    <tr style=\"text-align: right;\">\n",
              "      <th></th>\n",
              "      <th>speakers_ru</th>\n",
              "      <th>speakers_de</th>\n",
              "    </tr>\n",
              "  </thead>\n",
              "  <tbody>\n",
              "    <tr>\n",
              "      <th>0</th>\n",
              "      <td>Анжела</td>\n",
              "      <td>Angela</td>\n",
              "    </tr>\n",
              "    <tr>\n",
              "      <th>1</th>\n",
              "      <td>Аракелян</td>\n",
              "      <td>Arakeljan</td>\n",
              "    </tr>\n",
              "    <tr>\n",
              "      <th>2</th>\n",
              "      <td>Аркадий</td>\n",
              "      <td>Arkadii</td>\n",
              "    </tr>\n",
              "    <tr>\n",
              "      <th>3</th>\n",
              "      <td>Бабушка Аркадия</td>\n",
              "      <td>Oma von Arkadii</td>\n",
              "    </tr>\n",
              "    <tr>\n",
              "      <th>4</th>\n",
              "      <td>Виктория</td>\n",
              "      <td>Viktoria</td>\n",
              "    </tr>\n",
              "    <tr>\n",
              "      <th>5</th>\n",
              "      <td>Диктор 1</td>\n",
              "      <td>Sprecher 1</td>\n",
              "    </tr>\n",
              "    <tr>\n",
              "      <th>6</th>\n",
              "      <td>Диктор 2</td>\n",
              "      <td>Sprecher 2</td>\n",
              "    </tr>\n",
              "    <tr>\n",
              "      <th>7</th>\n",
              "      <td>Женщина в с тазиком в коридоре</td>\n",
              "      <td>Frau mit Schüssel im Flur</td>\n",
              "    </tr>\n",
              "    <tr>\n",
              "      <th>8</th>\n",
              "      <td>Журналист</td>\n",
              "      <td>Journalistin</td>\n",
              "    </tr>\n",
              "    <tr>\n",
              "      <th>9</th>\n",
              "      <td>Журналистка</td>\n",
              "      <td>Journalist</td>\n",
              "    </tr>\n",
              "    <tr>\n",
              "      <th>10</th>\n",
              "      <td>Иван</td>\n",
              "      <td>Iwan</td>\n",
              "    </tr>\n",
              "    <tr>\n",
              "      <th>11</th>\n",
              "      <td>Капитан</td>\n",
              "      <td>Kapitän</td>\n",
              "    </tr>\n",
              "    <tr>\n",
              "      <th>12</th>\n",
              "      <td>Коллега в коридоре</td>\n",
              "      <td>Kollege im Flur</td>\n",
              "    </tr>\n",
              "    <tr>\n",
              "      <th>13</th>\n",
              "      <td>Лидия Алексеевна</td>\n",
              "      <td>Lidija Aleksejewna</td>\n",
              "    </tr>\n",
              "    <tr>\n",
              "      <th>14</th>\n",
              "      <td>Любовница</td>\n",
              "      <td>Affäre</td>\n",
              "    </tr>\n",
              "    <tr>\n",
              "      <th>15</th>\n",
              "      <td>Марина</td>\n",
              "      <td>Marina</td>\n",
              "    </tr>\n",
              "    <tr>\n",
              "      <th>16</th>\n",
              "      <td>Мать Ивана</td>\n",
              "      <td>Iwans Mutter</td>\n",
              "    </tr>\n",
              "    <tr>\n",
              "      <th>17</th>\n",
              "      <td>Нина</td>\n",
              "      <td>Nina</td>\n",
              "    </tr>\n",
              "    <tr>\n",
              "      <th>18</th>\n",
              "      <td>Отец Ивана</td>\n",
              "      <td>Iwans Vater</td>\n",
              "    </tr>\n",
              "    <tr>\n",
              "      <th>19</th>\n",
              "      <td>Официантка</td>\n",
              "      <td>Kellnerin</td>\n",
              "    </tr>\n",
              "    <tr>\n",
              "      <th>20</th>\n",
              "      <td>Павел Юрьевич</td>\n",
              "      <td>Pawel Jurjewitsch</td>\n",
              "    </tr>\n",
              "    <tr>\n",
              "      <th>21</th>\n",
              "      <td>Петрович</td>\n",
              "      <td>Petrowitsch</td>\n",
              "    </tr>\n",
              "    <tr>\n",
              "      <th>22</th>\n",
              "      <td>Подросток</td>\n",
              "      <td>Teenager</td>\n",
              "    </tr>\n",
              "    <tr>\n",
              "      <th>23</th>\n",
              "      <td>Рассказчик</td>\n",
              "      <td>Erzähler</td>\n",
              "    </tr>\n",
              "    <tr>\n",
              "      <th>24</th>\n",
              "      <td>Ректор</td>\n",
              "      <td>Rektor</td>\n",
              "    </tr>\n",
              "    <tr>\n",
              "      <th>25</th>\n",
              "      <td>Репортёр</td>\n",
              "      <td>Reporter</td>\n",
              "    </tr>\n",
              "    <tr>\n",
              "      <th>26</th>\n",
              "      <td>Секретарь</td>\n",
              "      <td>Sekretär</td>\n",
              "    </tr>\n",
              "    <tr>\n",
              "      <th>27</th>\n",
              "      <td>Славик</td>\n",
              "      <td>Slawik</td>\n",
              "    </tr>\n",
              "    <tr>\n",
              "      <th>28</th>\n",
              "      <td>Соседка</td>\n",
              "      <td>Nachbarin</td>\n",
              "    </tr>\n",
              "    <tr>\n",
              "      <th>29</th>\n",
              "      <td>Студент</td>\n",
              "      <td>Student</td>\n",
              "    </tr>\n",
              "    <tr>\n",
              "      <th>30</th>\n",
              "      <td>Толпа</td>\n",
              "      <td>Menge</td>\n",
              "    </tr>\n",
              "    <tr>\n",
              "      <th>31</th>\n",
              "      <td>Человек в форме 1</td>\n",
              "      <td>Mann in Uniform 1</td>\n",
              "    </tr>\n",
              "    <tr>\n",
              "      <th>32</th>\n",
              "      <td>Человек в форме 2</td>\n",
              "      <td>Mann in Uniform 2</td>\n",
              "    </tr>\n",
              "    <tr>\n",
              "      <th>33</th>\n",
              "      <td>Юлия</td>\n",
              "      <td>Julia</td>\n",
              "    </tr>\n",
              "  </tbody>\n",
              "</table>\n",
              "</div>"
            ],
            "text/plain": [
              "                       speakers_ru                speakers_de\n",
              "0                           Анжела                     Angela\n",
              "1                         Аракелян                  Arakeljan\n",
              "2                          Аркадий                    Arkadii\n",
              "3                  Бабушка Аркадия            Oma von Arkadii\n",
              "4                         Виктория                   Viktoria\n",
              "5                         Диктор 1                 Sprecher 1\n",
              "6                         Диктор 2                 Sprecher 2\n",
              "7   Женщина в с тазиком в коридоре  Frau mit Schüssel im Flur\n",
              "8                        Журналист               Journalistin\n",
              "9                      Журналистка                 Journalist\n",
              "10                            Иван                       Iwan\n",
              "11                         Капитан                    Kapitän\n",
              "12              Коллега в коридоре            Kollege im Flur\n",
              "13                Лидия Алексеевна         Lidija Aleksejewna\n",
              "14                       Любовница                     Affäre\n",
              "15                          Марина                     Marina\n",
              "16                      Мать Ивана               Iwans Mutter\n",
              "17                            Нина                       Nina\n",
              "18                      Отец Ивана                Iwans Vater\n",
              "19                      Официантка                  Kellnerin\n",
              "20                   Павел Юрьевич          Pawel Jurjewitsch\n",
              "21                        Петрович                Petrowitsch\n",
              "22                       Подросток                   Teenager\n",
              "23                      Рассказчик                   Erzähler\n",
              "24                          Ректор                     Rektor\n",
              "25                        Репортёр                   Reporter\n",
              "26                       Секретарь                   Sekretär\n",
              "27                          Славик                     Slawik\n",
              "28                         Соседка                  Nachbarin\n",
              "29                         Студент                    Student\n",
              "30                           Толпа                      Menge\n",
              "31               Человек в форме 1          Mann in Uniform 1\n",
              "32               Человек в форме 2          Mann in Uniform 2\n",
              "33                            Юлия                      Julia"
            ]
          },
          "metadata": {
            "tags": []
          },
          "execution_count": 31
        }
      ]
    },
    {
      "cell_type": "code",
      "metadata": {
        "id": "027gMhgL8VdM",
        "colab_type": "code",
        "colab": {}
      },
      "source": [
        "df_speakers.to_csv(\"speakers.csv\")\n",
        "files.download(\"speakers.csv\")"
      ],
      "execution_count": 0,
      "outputs": []
    },
    {
      "cell_type": "markdown",
      "metadata": {
        "id": "-yqMREQadtXU",
        "colab_type": "text"
      },
      "source": [
        "# Запись слоёв аннотации в csv-файл"
      ]
    },
    {
      "cell_type": "code",
      "metadata": {
        "id": "UN9PisBkHQLk",
        "colab_type": "code",
        "colab": {}
      },
      "source": [
        "elan_dict = {\"Annotation\": [], \"Tier\": [], \"Begin time\": [],\n",
        "           \"End time\": [], \"Duration\": []}"
      ],
      "execution_count": 0,
      "outputs": []
    },
    {
      "cell_type": "code",
      "metadata": {
        "id": "fDAafz7za77n",
        "colab_type": "code",
        "colab": {}
      },
      "source": [
        "# \"склеиваем\" оказавшиеся на разных линиях реплики\n",
        "\n",
        "\n",
        "def glue(lines, lang):\n",
        "    if lang == \"ru\":\n",
        "        names = speakers_ru + list(aliases_ru.keys())\n",
        "    elif lang == \"de\":\n",
        "        names = speakers_de + list(aliases_de.keys())\n",
        "    res = []\n",
        "    for line in lines:\n",
        "        line = line.strip(\" \\n\")\n",
        "        if \":\" in line and line[:line.index(\":\")] in names:\n",
        "            res.append(line)\n",
        "        elif len(res) > 0:\n",
        "            res[-1] += line\n",
        "    return res"
      ],
      "execution_count": 0,
      "outputs": []
    },
    {
      "cell_type": "code",
      "metadata": {
        "id": "NGIuG65nKyQF",
        "colab_type": "code",
        "outputId": "27815cc6-c770-422c-bc8c-b9e7ac629aa2",
        "colab": {
          "base_uri": "https://localhost:8080/",
          "height": 289
        }
      },
      "source": [
        "# сначала сверяемся, что и в русской, и в немецкой аннотации\n",
        "# одинаковое количество реплик\n",
        "for i in range(len(df)):\n",
        "    lines_ru = glue(df[\"Russisch\"][i].split(\"\\n\"), \"ru\")\n",
        "    lines_de = glue(df[\"Deutsch\"][i].split(\"\\n\"), \"de\")\n",
        "    # в переводе две реплики объединили в одну\n",
        "    # для удобства разбиваем их обратно\n",
        "    if i == len(df) - 1:\n",
        "        lines_de = lines_de[:46] + \\\n",
        "            [\"Iwan Samsonow: Sie müssen noch die Sachen rausholen.\"] + \\\n",
        "            [\"Iwan Samsonow: Hey! Hallo?!\"] + lines_de[47:]\n",
        "    # то же самое\n",
        "    if i == 8:\n",
        "        lines_ru = lines_ru[:23] + \\\n",
        "        [\"Аркадий Борисович: Прям так и скажи. Давай набирай. Набирай, набирай. Давай, давай.\"] + \\\n",
        "        lines_ru[26:]\n",
        "        lines_de = lines_de[:23] + \\\n",
        "        [\"Arkadii Borisowitsch: Ja, genau so. Los, ruf an! Ruf an, ruf an! Los, los!\"] + \\\n",
        "        lines_de[25:]\n",
        "    print(f\"lines_ru: {len(lines_ru)}, lines_de: {len(lines_de)}\")\n",
        "# тексты разбиты на реплики корректно"
      ],
      "execution_count": 36,
      "outputs": [
        {
          "output_type": "stream",
          "text": [
            "lines_ru: 1, lines_de: 1\n",
            "lines_ru: 37, lines_de: 37\n",
            "lines_ru: 5, lines_de: 5\n",
            "lines_ru: 19, lines_de: 19\n",
            "lines_ru: 7, lines_de: 7\n",
            "lines_ru: 27, lines_de: 27\n",
            "lines_ru: 13, lines_de: 13\n",
            "lines_ru: 10, lines_de: 10\n",
            "lines_ru: 71, lines_de: 71\n",
            "lines_ru: 25, lines_de: 25\n",
            "lines_ru: 29, lines_de: 29\n",
            "lines_ru: 7, lines_de: 7\n",
            "lines_ru: 28, lines_de: 28\n",
            "lines_ru: 11, lines_de: 11\n",
            "lines_ru: 138, lines_de: 138\n",
            "lines_ru: 115, lines_de: 115\n"
          ],
          "name": "stdout"
        }
      ]
    },
    {
      "cell_type": "code",
      "metadata": {
        "id": "pkinImIBj6im",
        "colab_type": "code",
        "colab": {}
      },
      "source": [
        "# записываем реплики в слои аннотации\n",
        "for i in range(len(df)):\n",
        "    lines_ru = glue(df[\"Russisch\"][i].split(\"\\n\"), \"ru\")\n",
        "    lines_de = glue(df[\"Deutsch\"][i].split(\"\\n\"), \"de\")\n",
        "    if i == len(df) - 1:\n",
        "        lines_de = lines_de[:46] + \\\n",
        "            [\"Iwan Samsonow: Sie müssen noch die Sachen rausholen.\"] + \\\n",
        "            [\"Iwan Samsonow: Hey! Hallo?!\"] + lines_de[47:]\n",
        "    if i == 8:\n",
        "        lines_ru = lines_ru[:23] + \\\n",
        "        [\"Аркадий Борисович: Прям так и скажи. Давай набирай. Набирай, набирай. Давай, давай.\"] + \\\n",
        "        lines_ru[26:]\n",
        "        lines_de = lines_de[:23] + \\\n",
        "        [\"Arkadii Borisowitsch: Ja, genau so. Los, ruf an! Ruf an, ruf an! Los, los!\"] + \\\n",
        "        lines_de[25:]\n",
        "    for j in range(len(lines_ru)):\n",
        "        start = None\n",
        "        end = None\n",
        "        dur = None\n",
        "        name = lines_ru[j][:lines_ru[j].index(\":\")]\n",
        "        if name not in speakers_ru:\n",
        "            name = aliases_ru[name]\n",
        "        tier_ru = name + \"-Spch\"\n",
        "        tier_de = speakers_de[speakers_ru.index(name)] + \"-Spch\"\n",
        "        text_ru = lines_ru[j][lines_ru[j].index(\":\"):].strip(\": \\n\")\n",
        "        text_de = lines_de[j][lines_de[j].index(\":\"):].strip(\": \\n\")\n",
        "        if j == 0:\n",
        "            start = df[\"Zeit\"][i][0]\n",
        "        if j == len(lines_ru) - 1 and len(df[\"Zeit\"][i]) > 1:\n",
        "            end = df[\"Zeit\"][i][0]\n",
        "        if i == 15:\n",
        "            if j == 10:\n",
        "                end = df[\"Zeit\"][i][1]\n",
        "            elif j == 11:\n",
        "                start = df[\"Zeit\"][i][1]\n",
        "            elif j == 21:\n",
        "                end = df[\"Zeit\"][i][2]\n",
        "            elif j == 22:\n",
        "                start = df[\"Zeit\"][i][2]\n",
        "            elif j == 31:\n",
        "                end = df[\"Zeit\"][i][3]\n",
        "            elif j == 32:\n",
        "                start = df[\"Zeit\"][i][3]\n",
        "            elif j == 52:\n",
        "                end = df[\"Zeit\"][i][4]\n",
        "            elif j == 53:\n",
        "                start = df[\"Zeit\"][i][4]\n",
        "            elif j == 63:\n",
        "                end = df[\"Zeit\"][i][5]\n",
        "            elif j == 64:\n",
        "                start = df[\"Zeit\"][i][5]\n",
        "            elif j == 76:\n",
        "                end = df[\"Zeit\"][i][6]\n",
        "            elif j == 77:\n",
        "                start = df[\"Zeit\"][i][6]\n",
        "            elif j == 84:\n",
        "                end = df[\"Zeit\"][i][7]\n",
        "            elif j == 85:\n",
        "                start = df[\"Zeit\"][i][7]\n",
        "            elif j == 91:\n",
        "                end = df[\"Zeit\"][i][8]\n",
        "            elif j == 92:\n",
        "                start = df[\"Zeit\"][i][8]\n",
        "        elan_dict[\"Annotation\"].append(text_ru)\n",
        "        elan_dict[\"Annotation\"].append(text_de)\n",
        "        elan_dict[\"Tier\"].append(tier_ru)\n",
        "        elan_dict[\"Tier\"].append(tier_de)\n",
        "        elan_dict[\"Begin time\"].append(start)\n",
        "        elan_dict[\"End time\"].append(end)\n",
        "        elan_dict[\"Duration\"].append(dur)\n",
        "        elan_dict[\"Begin time\"].append(start)\n",
        "        elan_dict[\"End time\"].append(end)\n",
        "        elan_dict[\"Duration\"].append(dur)"
      ],
      "execution_count": 0,
      "outputs": []
    },
    {
      "cell_type": "code",
      "metadata": {
        "id": "GR-GVvaFIJ9C",
        "colab_type": "code",
        "colab": {}
      },
      "source": [
        "elan_df = pd.DataFrame(elan_dict)"
      ],
      "execution_count": 0,
      "outputs": []
    },
    {
      "cell_type": "code",
      "metadata": {
        "id": "lLTCu8NOR1CT",
        "colab_type": "code",
        "colab": {
          "base_uri": "https://localhost:8080/",
          "height": 204
        },
        "outputId": "e67e89d2-8e00-4a1a-b7c7-c3be515b0ffe"
      },
      "source": [
        "elan_df.head()"
      ],
      "execution_count": 39,
      "outputs": [
        {
          "output_type": "execute_result",
          "data": {
            "text/html": [
              "<div>\n",
              "<style scoped>\n",
              "    .dataframe tbody tr th:only-of-type {\n",
              "        vertical-align: middle;\n",
              "    }\n",
              "\n",
              "    .dataframe tbody tr th {\n",
              "        vertical-align: top;\n",
              "    }\n",
              "\n",
              "    .dataframe thead th {\n",
              "        text-align: right;\n",
              "    }\n",
              "</style>\n",
              "<table border=\"1\" class=\"dataframe\">\n",
              "  <thead>\n",
              "    <tr style=\"text-align: right;\">\n",
              "      <th></th>\n",
              "      <th>Annotation</th>\n",
              "      <th>Tier</th>\n",
              "      <th>Begin time</th>\n",
              "      <th>End time</th>\n",
              "      <th>Duration</th>\n",
              "    </tr>\n",
              "  </thead>\n",
              "  <tbody>\n",
              "    <tr>\n",
              "      <th>0</th>\n",
              "      <td>Сколько денег нужно, чтобы стать счастливым? С...</td>\n",
              "      <td>Рассказчик-Spch</td>\n",
              "      <td>0:00</td>\n",
              "      <td>None</td>\n",
              "      <td>None</td>\n",
              "    </tr>\n",
              "    <tr>\n",
              "      <th>1</th>\n",
              "      <td>Wie viel Geld braucht man, um glücklich zu sei...</td>\n",
              "      <td>Erzähler-Spch</td>\n",
              "      <td>0:00</td>\n",
              "      <td>None</td>\n",
              "      <td>None</td>\n",
              "    </tr>\n",
              "    <tr>\n",
              "      <th>2</th>\n",
              "      <td>Говорит и показывает Москва.</td>\n",
              "      <td>Диктор 1-Spch</td>\n",
              "      <td>1:32</td>\n",
              "      <td>None</td>\n",
              "      <td>None</td>\n",
              "    </tr>\n",
              "    <tr>\n",
              "      <th>3</th>\n",
              "      <td>Govorit i pokazyvaet Moskva.</td>\n",
              "      <td>Sprecher 1-Spch</td>\n",
              "      <td>1:32</td>\n",
              "      <td>None</td>\n",
              "      <td>None</td>\n",
              "    </tr>\n",
              "    <tr>\n",
              "      <th>4</th>\n",
              "      <td>\"Крылатые качели\". Солистка - Оля Новикова.</td>\n",
              "      <td>Диктор 2-Spch</td>\n",
              "      <td>None</td>\n",
              "      <td>None</td>\n",
              "      <td>None</td>\n",
              "    </tr>\n",
              "  </tbody>\n",
              "</table>\n",
              "</div>"
            ],
            "text/plain": [
              "                                          Annotation  ... Duration\n",
              "0  Сколько денег нужно, чтобы стать счастливым? С...  ...     None\n",
              "1  Wie viel Geld braucht man, um glücklich zu sei...  ...     None\n",
              "2                       Говорит и показывает Москва.  ...     None\n",
              "3                       Govorit i pokazyvaet Moskva.  ...     None\n",
              "4        \"Крылатые качели\". Солистка - Оля Новикова.  ...     None\n",
              "\n",
              "[5 rows x 5 columns]"
            ]
          },
          "metadata": {
            "tags": []
          },
          "execution_count": 39
        }
      ]
    },
    {
      "cell_type": "code",
      "metadata": {
        "id": "120fkbyAR3FO",
        "colab_type": "code",
        "colab": {}
      },
      "source": [
        "elan_df.to_csv(\"Übersetzung_1_1.csv\")\n",
        "files.download(\"Übersetzung_1_1.csv\")"
      ],
      "execution_count": 0,
      "outputs": []
    },
    {
      "cell_type": "code",
      "metadata": {
        "id": "045HfYEuSSvs",
        "colab_type": "code",
        "colab": {}
      },
      "source": [
        ""
      ],
      "execution_count": 0,
      "outputs": []
    }
  ]
}